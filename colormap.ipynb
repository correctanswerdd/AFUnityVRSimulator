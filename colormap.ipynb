{
  "nbformat": 4,
  "nbformat_minor": 0,
  "metadata": {
    "colab": {
      "provenance": []
    },
    "kernelspec": {
      "name": "python3",
      "display_name": "Python 3"
    },
    "language_info": {
      "name": "python"
    }
  },
  "cells": [
    {
      "cell_type": "code",
      "execution_count": 24,
      "metadata": {
        "colab": {
          "base_uri": "https://localhost:8080/"
        },
        "id": "LOjPhJoeX2xk",
        "outputId": "faf460a9-e6e3-4b06-b0e3-8fba25a58052"
      },
      "outputs": [
        {
          "output_type": "stream",
          "name": "stderr",
          "text": [
            "<ipython-input-24-f1b90f656cc5>:7: MatplotlibDeprecationWarning: The get_cmap function was deprecated in Matplotlib 3.7 and will be removed two minor releases later. Use ``matplotlib.colormaps[name]`` or ``matplotlib.colormaps.get_cmap(obj)`` instead.\n",
            "  viridis = cm.get_cmap(map_name, 64)\n"
          ]
        },
        {
          "output_type": "execute_result",
          "data": {
            "text/plain": [
              "(64, 4)"
            ]
          },
          "metadata": {},
          "execution_count": 24
        }
      ],
      "source": [
        "import numpy as np\n",
        "import matplotlib.pyplot as plt\n",
        "from matplotlib import cm\n",
        "from matplotlib.colors import ListedColormap, LinearSegmentedColormap\n",
        "\n",
        "map_name = 'turbo'\n",
        "viridis = cm.get_cmap(map_name, 64)\n",
        "colors = viridis(np.arange(0,viridis.N))\n",
        "if map_name in ['Spectral', 'RdYlBu', 'RdBu']:\n",
        "  colors = np.flip(colors, axis=0)\n",
        "colors.shape"
      ]
    },
    {
      "cell_type": "code",
      "source": [
        "from google.colab import drive\n",
        "import os\n",
        "\n",
        "drive.mount('/content/drive')\n",
        "path = \"/content/drive/My Drive/Colab Notebooks/ablation\"\n",
        "os.chdir(path)"
      ],
      "metadata": {
        "colab": {
          "base_uri": "https://localhost:8080/"
        },
        "id": "Nf2pFAci5KtZ",
        "outputId": "14bdd68e-b26b-4241-e25b-7a2a04f17634"
      },
      "execution_count": null,
      "outputs": [
        {
          "output_type": "stream",
          "name": "stdout",
          "text": [
            "Mounted at /content/drive\n"
          ]
        }
      ]
    },
    {
      "cell_type": "code",
      "source": [
        "lines = []\n",
        "for c in colors[-64:]:\n",
        "    lines.append(f\"{c[0]}, {c[1]}, {c[2]}\")\n",
        "\n",
        "with open(f'colormap_{map_name}.txt', 'w') as f:\n",
        "    f.write('\\n'.join(lines))"
      ],
      "metadata": {
        "id": "Q7qWudqS3ut4"
      },
      "execution_count": 25,
      "outputs": []
    },
    {
      "cell_type": "code",
      "source": [],
      "metadata": {
        "id": "PkEIfg-WYXpr"
      },
      "execution_count": null,
      "outputs": []
    }
  ]
}